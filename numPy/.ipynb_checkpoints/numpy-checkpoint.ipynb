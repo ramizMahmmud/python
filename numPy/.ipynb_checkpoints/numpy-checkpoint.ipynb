{
 "cells": [
  {
   "cell_type": "code",
   "execution_count": null,
   "id": "6df654c2-07e0-4270-9305-12c057b8f8da",
   "metadata": {},
   "outputs": [],
   "source": [
    "%config IPCompleter.greedy=True"
   ]
  },
  {
   "cell_type": "markdown",
   "id": "aa018e6e-056a-4bfd-b120-6292b352987d",
   "metadata": {},
   "source": [
    "### Create a numpy array of temperatures in Celsius and convert to Fahrenheit"
   ]
  },
  {
   "cell_type": "code",
   "execution_count": 4,
   "id": "93434b3d-348d-4e6a-a641-338d902ed89a",
   "metadata": {},
   "outputs": [
    {
     "name": "stdout",
     "output_type": "stream",
     "text": [
      "[50.  60.8 68.  86. ]\n"
     ]
    }
   ],
   "source": [
    "import numpy as np\n",
    "\n",
    "celsiusValues = np.array([10,16,20,30])\n",
    "fahrenheitValues = (celsiusValues * 9 / 5 +32)\n",
    "print(fahrenheitValues)"
   ]
  },
  {
   "cell_type": "markdown",
   "id": "f4c6bd6c-e1ed-4b2a-949a-a6bf000c284e",
   "metadata": {},
   "source": [
    "### Arange function. arange(start, stop, step, data type). stop value excluded"
   ]
  },
  {
   "cell_type": "code",
   "execution_count": 2,
   "id": "fd449e16-5635-424c-9b7d-6972f443459f",
   "metadata": {},
   "outputs": [
    {
     "name": "stdout",
     "output_type": "stream",
     "text": [
      "[1 3 5 7 9]\n"
     ]
    }
   ],
   "source": [
    "import numpy as np\n",
    "a = np.arange(1,10,2)\n",
    "print(a)"
   ]
  },
  {
   "cell_type": "code",
   "execution_count": 4,
   "id": "ce7cb711-3a42-4bc4-80b9-fbd072856c22",
   "metadata": {},
   "outputs": [
    {
     "name": "stdout",
     "output_type": "stream",
     "text": [
      "[ 0.  1.  2.  3.  4.  5.  6.  7.  8.  9. 10.]\n"
     ]
    }
   ],
   "source": [
    "b = np.arange(10.5)\n",
    "print(b)"
   ]
  },
  {
   "cell_type": "code",
   "execution_count": 5,
   "id": "32bf2f34-a817-4658-9bf9-14da439c0440",
   "metadata": {},
   "outputs": [
    {
     "name": "stdout",
     "output_type": "stream",
     "text": [
      "[0 1 2 3 4 5 6 7 8]\n"
     ]
    }
   ],
   "source": [
    "c = np.arange(0.5, 10.5, 1.2, int)\n",
    "print(c)"
   ]
  },
  {
   "cell_type": "markdown",
   "id": "a6db5552-60a8-417e-87b4-2c0950332097",
   "metadata": {},
   "source": [
    "## Linspace\n",
    "### syntax linspace(start, stop, num=50, endpoint=True, retstep=False)"
   ]
  },
  {
   "cell_type": "code",
   "execution_count": 6,
   "id": "25151c7d-e73d-4847-9d9c-589f515915fb",
   "metadata": {},
   "outputs": [
    {
     "name": "stdout",
     "output_type": "stream",
     "text": [
      "Size is:  50\n",
      "[ 1.          1.18367347  1.36734694  1.55102041  1.73469388  1.91836735\n",
      "  2.10204082  2.28571429  2.46938776  2.65306122  2.83673469  3.02040816\n",
      "  3.20408163  3.3877551   3.57142857  3.75510204  3.93877551  4.12244898\n",
      "  4.30612245  4.48979592  4.67346939  4.85714286  5.04081633  5.2244898\n",
      "  5.40816327  5.59183673  5.7755102   5.95918367  6.14285714  6.32653061\n",
      "  6.51020408  6.69387755  6.87755102  7.06122449  7.24489796  7.42857143\n",
      "  7.6122449   7.79591837  7.97959184  8.16326531  8.34693878  8.53061224\n",
      "  8.71428571  8.89795918  9.08163265  9.26530612  9.44897959  9.63265306\n",
      "  9.81632653 10.        ]\n"
     ]
    }
   ],
   "source": [
    "import numpy as np\n",
    "\n",
    "# by default size is 50\n",
    "x = np.linspace(1,10)\n",
    "print(\"Size is: \",x.size)\n",
    "print(x)\n"
   ]
  },
  {
   "cell_type": "code",
   "execution_count": 7,
   "id": "c108f81c-ac15-4c69-9ee0-1c0d8c6f2709",
   "metadata": {},
   "outputs": [
    {
     "name": "stdout",
     "output_type": "stream",
     "text": [
      "Size is:  10\n",
      "[ 1.  2.  3.  4.  5.  6.  7.  8.  9. 10.]\n"
     ]
    }
   ],
   "source": [
    "# creating specific size with linspace\n",
    "x = np.linspace(1,10,10)\n",
    "print(\"Size is: \",x.size)\n",
    "print(x)"
   ]
  },
  {
   "cell_type": "code",
   "execution_count": 10,
   "id": "94a1fe36-57a4-476f-92a1-557bdc090be5",
   "metadata": {},
   "outputs": [
    {
     "name": "stdout",
     "output_type": "stream",
     "text": [
      "Size is:  10\n",
      "[1.  1.9 2.8 3.7 4.6 5.5 6.4 7.3 8.2 9.1]\n"
     ]
    }
   ],
   "source": [
    "# excluding end number\n",
    "x = np.linspace(1,10,10, endpoint = False )\n",
    "print(\"Size is: \",x.size)\n",
    "print(x)"
   ]
  },
  {
   "cell_type": "code",
   "execution_count": 11,
   "id": "a5a46d10-1498-4de7-8a74-a37236163c70",
   "metadata": {},
   "outputs": [
    {
     "name": "stdout",
     "output_type": "stream",
     "text": [
      "Spacing:  1.8\n",
      "[ 1.   2.8  4.6  6.4  8.2 10. ]\n"
     ]
    }
   ],
   "source": [
    "# step size(common differnce)\n",
    "sample, spacing = np.linspace(1,10,6, retstep=True)\n",
    "print('Spacing: ', spacing)\n",
    "print(sample)"
   ]
  },
  {
   "cell_type": "markdown",
   "id": "b3ab3698-5060-49a2-ab6a-0bd8f93465cd",
   "metadata": {},
   "source": [
    "## Zero dimensinal arrays"
   ]
  },
  {
   "cell_type": "code",
   "execution_count": 2,
   "id": "18a86567-2a8d-40aa-afcf-d60fceb98fd9",
   "metadata": {},
   "outputs": [
    {
     "name": "stdout",
     "output_type": "stream",
     "text": [
      "x:  42\n",
      "Type:  <class 'numpy.ndarray'>\n",
      "Dimension:  0\n"
     ]
    }
   ],
   "source": [
    "import numpy as np\n",
    "x = np.array(42)\n",
    "print(\"x: \", x)\n",
    "print(\"Type: \", type(x))\n",
    "print(\"Dimension: \", np.ndim(x))"
   ]
  },
  {
   "cell_type": "markdown",
   "id": "9821dd3e-7f77-4a1b-b3c6-b703725064d2",
   "metadata": {},
   "source": [
    "## One dimensional Array"
   ]
  },
  {
   "cell_type": "code",
   "execution_count": 3,
   "id": "33319674-cc84-419a-b0e7-0ab689e6c129",
   "metadata": {},
   "outputs": [
    {
     "name": "stdout",
     "output_type": "stream",
     "text": [
      "x:  [1 2 3]\n",
      "Type:  int64\n",
      "Dimension:  1\n"
     ]
    }
   ],
   "source": [
    "x = np.array((1, 2,3))\n",
    "print(\"x: \", x)\n",
    "print(\"Type: \", x.dtype)\n",
    "print(\"Dimension: \", np.ndim(x))"
   ]
  },
  {
   "cell_type": "markdown",
   "id": "f3bf7c50-ae94-4bbb-9314-f79911fe8fc8",
   "metadata": {},
   "source": [
    "## Two Dimensional Arrays"
   ]
  },
  {
   "cell_type": "code",
   "execution_count": 10,
   "id": "61560d93-0be3-48e7-b11d-47815e7b6b3d",
   "metadata": {},
   "outputs": [
    {
     "name": "stdout",
     "output_type": "stream",
     "text": [
      "[[1 2 3]\n",
      " [4 5 6]]\n",
      "int64\n",
      "2\n",
      "(2, 3)\n",
      "[[1 2]\n",
      " [3 4]\n",
      " [5 6]]\n"
     ]
    }
   ],
   "source": [
    "A = np.array([[1,2,3], \n",
    "              [4,5,6]])\n",
    "print(A)\n",
    "print(A.dtype)\n",
    "print(A.ndim)\n",
    "# shape function returns row and column\n",
    "print(np.shape(A))\n",
    "# Transpose matrix using shape function\n",
    "B = A\n",
    "B.shape = (3,2)\n",
    "print(B)"
   ]
  },
  {
   "cell_type": "markdown",
   "id": "3f2c6c65-f01b-4d6e-9be7-2d77cda7db86",
   "metadata": {},
   "source": [
    "## Slicing A[start:stop:step]   stop excluded"
   ]
  },
  {
   "cell_type": "code",
   "execution_count": 15,
   "id": "80115a10-d355-47dd-a04b-cd9853c27110",
   "metadata": {},
   "outputs": [
    {
     "name": "stdout",
     "output_type": "stream",
     "text": [
      "[11. 12. 13. 14. 15. 16. 17. 18. 19. 20.]\n"
     ]
    }
   ],
   "source": [
    "S = np.linspace(11,20,10)\n",
    "print(S)"
   ]
  },
  {
   "cell_type": "code",
   "execution_count": 16,
   "id": "a9eddd68-3bdb-4caf-9862-02f7b7d0795f",
   "metadata": {},
   "outputs": [
    {
     "name": "stdout",
     "output_type": "stream",
     "text": [
      "[13. 14. 15.]\n"
     ]
    }
   ],
   "source": [
    "print(S[2:5])"
   ]
  },
  {
   "cell_type": "code",
   "execution_count": 17,
   "id": "49558b0b-e680-45ff-a1bc-c6dee218680f",
   "metadata": {},
   "outputs": [
    {
     "name": "stdout",
     "output_type": "stream",
     "text": [
      "[11. 12. 13. 14.]\n"
     ]
    }
   ],
   "source": [
    "print(S[:4])"
   ]
  },
  {
   "cell_type": "code",
   "execution_count": 18,
   "id": "bf25c32c-5594-4cf5-b090-9124da512ded",
   "metadata": {},
   "outputs": [
    {
     "name": "stdout",
     "output_type": "stream",
     "text": [
      "[17. 18. 19. 20.]\n"
     ]
    }
   ],
   "source": [
    "print(S[6:])"
   ]
  },
  {
   "cell_type": "code",
   "execution_count": 19,
   "id": "17c57c8f-5a85-4bf3-92af-0ab450b88b9a",
   "metadata": {},
   "outputs": [
    {
     "name": "stdout",
     "output_type": "stream",
     "text": [
      "[11. 12. 13. 14. 15. 16. 17. 18. 19. 20.]\n"
     ]
    }
   ],
   "source": [
    "print(S[:])"
   ]
  },
  {
   "cell_type": "markdown",
   "id": "42705537-7c68-434d-b397-c25f2f08dff1",
   "metadata": {},
   "source": [
    "## A wired behavior"
   ]
  },
  {
   "cell_type": "code",
   "execution_count": 22,
   "id": "35a46b11-dfcc-4468-a4d1-24c43c637e6a",
   "metadata": {},
   "outputs": [
    {
     "name": "stdout",
     "output_type": "stream",
     "text": [
      "[ 0  1  2  3  4  5  6  7  8  9 10 11]\n"
     ]
    }
   ],
   "source": [
    "\n",
    "A = np.arange(12)\n",
    "print(A)"
   ]
  },
  {
   "cell_type": "code",
   "execution_count": 23,
   "id": "cc0e561c-e7f8-4647-95ae-de0dc307d1c2",
   "metadata": {},
   "outputs": [
    {
     "name": "stdout",
     "output_type": "stream",
     "text": [
      "[ 0  1  2  3  4  5  6  7  8  9 10 11]\n",
      "[[ 0  1  2  3]\n",
      " [ 4  5  6  7]\n",
      " [ 8  9 10 11]]\n"
     ]
    }
   ],
   "source": [
    "B = A.reshape(3,4)\n",
    "print(A)\n",
    "print(B)"
   ]
  },
  {
   "cell_type": "code",
   "execution_count": 24,
   "id": "39bce344-5f95-4d6e-becb-715bc7ee3997",
   "metadata": {},
   "outputs": [
    {
     "name": "stdout",
     "output_type": "stream",
     "text": [
      "[1000    1    2    3    4    5    6    7    8    9   10   11]\n",
      "[[1000    1    2    3]\n",
      " [   4    5    6    7]\n",
      " [   8    9   10   11]]\n"
     ]
    }
   ],
   "source": [
    "A[0] = 1000\n",
    "print(A)\n",
    "print(B)"
   ]
  },
  {
   "cell_type": "markdown",
   "id": "db933d67-007b-4bd3-8b46-c4d66e6ca552",
   "metadata": {},
   "source": [
    "## Arrays with zeros and ones"
   ]
  },
  {
   "cell_type": "code",
   "execution_count": 26,
   "id": "2c873730-426f-4748-a19f-967a7a6330f3",
   "metadata": {},
   "outputs": [
    {
     "name": "stdout",
     "output_type": "stream",
     "text": [
      "[[0 0]\n",
      " [0 0]\n",
      " [0 0]]\n"
     ]
    }
   ],
   "source": [
    "x = np.zeros((3,2), dtype = int)\n",
    "print(x)"
   ]
  },
  {
   "cell_type": "code",
   "execution_count": 27,
   "id": "c7ebd58e-28c9-44de-821f-22880948d796",
   "metadata": {},
   "outputs": [
    {
     "name": "stdout",
     "output_type": "stream",
     "text": [
      "[[1 1]\n",
      " [1 1]\n",
      " [1 1]]\n"
     ]
    }
   ],
   "source": [
    "x = np.ones((3,2), dtype = int)\n",
    "print(x)"
   ]
  },
  {
   "cell_type": "code",
   "execution_count": 29,
   "id": "05334aa5-b1cb-4dab-8762-9bc842521ae2",
   "metadata": {},
   "outputs": [
    {
     "name": "stdout",
     "output_type": "stream",
     "text": [
      "[[1 2]\n",
      " [4 5]]\n",
      "[[0 0]\n",
      " [0 0]]\n"
     ]
    }
   ],
   "source": [
    "a = np.array([[1,2],[4,5]])\n",
    "x = np.zeros_like(a)\n",
    "print(a)\n",
    "print(x)"
   ]
  },
  {
   "cell_type": "code",
   "execution_count": 31,
   "id": "cffff4bc-a08f-4fd0-a9d0-0316c404c525",
   "metadata": {},
   "outputs": [
    {
     "name": "stdout",
     "output_type": "stream",
     "text": [
      "[[1 0 0]\n",
      " [0 1 0]\n",
      " [0 0 1]]\n"
     ]
    }
   ],
   "source": [
    "i = np.identity(3,dtype=int)\n",
    "print(i)"
   ]
  },
  {
   "cell_type": "markdown",
   "id": "579f707b-962e-44f6-8fe1-32f99cf0d564",
   "metadata": {},
   "source": [
    "### 1) Create an arbitrary one dimensional array called \"v\""
   ]
  },
  {
   "cell_type": "code",
   "execution_count": 35,
   "id": "0c5218b9-590c-48a5-aab0-4dbff371fc22",
   "metadata": {},
   "outputs": [
    {
     "name": "stdout",
     "output_type": "stream",
     "text": [
      "[ 2  3  4 55 66 32 64 24  1]\n"
     ]
    }
   ],
   "source": [
    "a = np.array([2,3,4,55,66,32,64,24,1])\n",
    "print(a)"
   ]
  },
  {
   "cell_type": "markdown",
   "id": "d1c951c0-6b89-4aac-a85d-f94b23e6a970",
   "metadata": {},
   "source": [
    "### 2) Create a new array which consists of the odd indices of previously created array \"v\""
   ]
  },
  {
   "cell_type": "code",
   "execution_count": 38,
   "id": "4aa76906-6b2b-4b2d-b439-aab1d2a69585",
   "metadata": {},
   "outputs": [
    {
     "name": "stdout",
     "output_type": "stream",
     "text": [
      "[ 3 55 32 24]\n"
     ]
    }
   ],
   "source": [
    "b = a.copy()\n",
    "b = b[1::2]\n",
    "print(b)"
   ]
  },
  {
   "cell_type": "markdown",
   "id": "928ef781-66f5-446e-9bc4-94494523f5fc",
   "metadata": {},
   "source": [
    "### 3) Create a new array in backwards ordering from v."
   ]
  },
  {
   "cell_type": "code",
   "execution_count": 39,
   "id": "eb07fbb7-33d7-459b-beaf-f788ea7d769a",
   "metadata": {},
   "outputs": [
    {
     "name": "stdout",
     "output_type": "stream",
     "text": [
      "[ 1 24 64 32 66 55  4  3  2]\n"
     ]
    }
   ],
   "source": [
    "reverse = a[::-1]\n",
    "print(reverse)"
   ]
  },
  {
   "cell_type": "markdown",
   "id": "899d6a9d-53bb-4ed8-ae9e-9b9e804f2bf1",
   "metadata": {},
   "source": [
    "### 4)Create a two dimensional array called \"m\""
   ]
  },
  {
   "cell_type": "code",
   "execution_count": 49,
   "id": "a6ad174d-6b9b-4418-a9ea-aa8a1b6ffb9f",
   "metadata": {},
   "outputs": [],
   "source": [
    "m = np.array([ [1,2,3],\n",
    "              [4,5,6],\n",
    "             [7,8,9]])"
   ]
  },
  {
   "cell_type": "markdown",
   "id": "f37aac30-0f1f-40c8-baeb-95c35b1ce542",
   "metadata": {},
   "source": [
    "### 5) Create a new array from m, in which the elements of each row are in reverse order."
   ]
  },
  {
   "cell_type": "code",
   "execution_count": 50,
   "id": "d7688556-3111-49c9-b654-ecf9c058905e",
   "metadata": {},
   "outputs": [
    {
     "name": "stdout",
     "output_type": "stream",
     "text": [
      "[[3 2 1]\n",
      " [6 5 4]\n",
      " [9 8 7]]\n"
     ]
    }
   ],
   "source": [
    "reverse_row_element = m[:,::-1]\n",
    "print(reverse_row_element)"
   ]
  },
  {
   "cell_type": "markdown",
   "id": "e952849b-8a17-4be9-8334-3224f8369bd9",
   "metadata": {},
   "source": [
    "### 6) Another one, where the rows are in reverse order"
   ]
  },
  {
   "cell_type": "code",
   "execution_count": 51,
   "id": "20cddf1d-dca2-4a83-a518-b30b2a374fd5",
   "metadata": {},
   "outputs": [
    {
     "name": "stdout",
     "output_type": "stream",
     "text": [
      "[[7 8 9]\n",
      " [4 5 6]\n",
      " [1 2 3]]\n"
     ]
    }
   ],
   "source": [
    "reverse_row = m[::-1]\n",
    "print(reverse_row)"
   ]
  },
  {
   "cell_type": "markdown",
   "id": "a004b38f-4c07-4f28-ab8c-20c10a5e6bd2",
   "metadata": {},
   "source": [
    "### 7) Create an array from m, where columns and rows are in reverse order."
   ]
  },
  {
   "cell_type": "code",
   "execution_count": 52,
   "id": "a742f853-0cc4-4496-9c3b-aeacdb81e21b",
   "metadata": {},
   "outputs": [
    {
     "name": "stdout",
     "output_type": "stream",
     "text": [
      "[[9 8 7]\n",
      " [6 5 4]\n",
      " [3 2 1]]\n"
     ]
    }
   ],
   "source": [
    "reverse_array = m[::-1,::-1]\n",
    "print(reverse_array)"
   ]
  },
  {
   "cell_type": "markdown",
   "id": "a262aba5-d0c6-4a29-bc9a-6a15552bc0dc",
   "metadata": {},
   "source": [
    "### 8) Cut of the first and last row and the first and last column."
   ]
  },
  {
   "cell_type": "code",
   "execution_count": 53,
   "id": "e3473aab-ca47-4318-9a2d-435ffc542ffb",
   "metadata": {},
   "outputs": [
    {
     "name": "stdout",
     "output_type": "stream",
     "text": [
      "[[5]]\n"
     ]
    }
   ],
   "source": [
    "print(m[1:-1,1:-1])"
   ]
  }
 ],
 "metadata": {
  "kernelspec": {
   "display_name": "Python 3 (ipykernel)",
   "language": "python",
   "name": "python3"
  },
  "language_info": {
   "codemirror_mode": {
    "name": "ipython",
    "version": 3
   },
   "file_extension": ".py",
   "mimetype": "text/x-python",
   "name": "python",
   "nbconvert_exporter": "python",
   "pygments_lexer": "ipython3",
   "version": "3.10.12"
  }
 },
 "nbformat": 4,
 "nbformat_minor": 5
}
