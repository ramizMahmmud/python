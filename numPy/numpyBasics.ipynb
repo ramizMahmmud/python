{
 "cells": [
  {
   "cell_type": "code",
   "execution_count": 1,
   "id": "3af3b5f1-a0df-4844-a20c-37c8cc238f14",
   "metadata": {},
   "outputs": [],
   "source": [
    "import numpy as np"
   ]
  },
  {
   "cell_type": "markdown",
   "id": "d4c19e10-b33c-4490-b845-b3f275991045",
   "metadata": {},
   "source": [
    "## List vs numpyarray"
   ]
  },
  {
   "cell_type": "markdown",
   "id": "9972cef5-8d18-4f7f-b515-c0d436b4f09c",
   "metadata": {},
   "source": [
    "#### Numpy array is faster"
   ]
  },
  {
   "cell_type": "code",
   "execution_count": 2,
   "id": "d442e555-58e6-4647-8fb6-05d66d989ee8",
   "metadata": {},
   "outputs": [
    {
     "name": "stdout",
     "output_type": "stream",
     "text": [
      "[1, 2, 3, 4]\n"
     ]
    },
    {
     "data": {
      "text/plain": [
       "list"
      ]
     },
     "execution_count": 2,
     "metadata": {},
     "output_type": "execute_result"
    }
   ],
   "source": [
    "# list \n",
    "list = [1,2,3,4]\n",
    "print(list)\n",
    "type(list)"
   ]
  },
  {
   "cell_type": "code",
   "execution_count": 3,
   "id": "0f07f4ef-1055-4386-91d1-9ac54f5d841f",
   "metadata": {},
   "outputs": [
    {
     "name": "stdout",
     "output_type": "stream",
     "text": [
      "[1 2 3 4]\n"
     ]
    },
    {
     "data": {
      "text/plain": [
       "numpy.ndarray"
      ]
     },
     "execution_count": 3,
     "metadata": {},
     "output_type": "execute_result"
    }
   ],
   "source": [
    "# numpy array\n",
    "np_array = np.array([1,2,3,4])\n",
    "print(np_array)\n",
    "type(np_array)"
   ]
  },
  {
   "cell_type": "code",
   "execution_count": 4,
   "id": "6a98fbee-fc39-48a7-8887-8e66032f86d7",
   "metadata": {},
   "outputs": [
    {
     "data": {
      "text/plain": [
       "(4,)"
      ]
     },
     "execution_count": 4,
     "metadata": {},
     "output_type": "execute_result"
    }
   ],
   "source": [
    "np_array.shape"
   ]
  },
  {
   "cell_type": "markdown",
   "id": "7323d718-7ee9-4af9-b58f-7577ff517694",
   "metadata": {},
   "source": [
    "## 2D array"
   ]
  },
  {
   "cell_type": "code",
   "execution_count": 6,
   "id": "bb0e2e5f-fcb0-48cd-8e90-35ccbde3c598",
   "metadata": {},
   "outputs": [
    {
     "name": "stdout",
     "output_type": "stream",
     "text": [
      "[[1 2 3 4]\n",
      " [5 6 7 8]]\n"
     ]
    },
    {
     "data": {
      "text/plain": [
       "(2, 4)"
      ]
     },
     "execution_count": 6,
     "metadata": {},
     "output_type": "execute_result"
    }
   ],
   "source": [
    "two_d_array = np.array([(1,2,3,4),(5,6,7,8)])\n",
    "print(two_d_array)\n",
    "two_d_array.shape"
   ]
  },
  {
   "cell_type": "code",
   "execution_count": 8,
   "id": "3df80396-4bf9-4c2b-b462-3673bd9ca1b8",
   "metadata": {},
   "outputs": [
    {
     "name": "stdout",
     "output_type": "stream",
     "text": [
      "[[1. 2. 3.]\n",
      " [4. 5. 6.]]\n"
     ]
    }
   ],
   "source": [
    "c = np.array([(1,2,3),(4,5,6)], dtype = float)\n",
    "print(c)"
   ]
  },
  {
   "cell_type": "markdown",
   "id": "6903ba48-54bb-45c4-b10b-e99e4b3ce9f8",
   "metadata": {},
   "source": [
    "## Initial place holder"
   ]
  },
  {
   "cell_type": "code",
   "execution_count": 10,
   "id": "ebf89c9b-4c52-4b43-beb5-ada67e7ea9d9",
   "metadata": {},
   "outputs": [
    {
     "name": "stdout",
     "output_type": "stream",
     "text": [
      "[[0. 0. 0. 0. 0.]\n",
      " [0. 0. 0. 0. 0.]\n",
      " [0. 0. 0. 0. 0.]\n",
      " [0. 0. 0. 0. 0.]]\n"
     ]
    }
   ],
   "source": [
    "#create a numpy array of zeros\n",
    "x = np.zeros((4,5))\n",
    "print(x)"
   ]
  },
  {
   "cell_type": "code",
   "execution_count": 11,
   "id": "3ab49971-17b0-4af1-999b-39b10f1cf155",
   "metadata": {},
   "outputs": [
    {
     "name": "stdout",
     "output_type": "stream",
     "text": [
      "[[1. 1. 1.]\n",
      " [1. 1. 1.]\n",
      " [1. 1. 1.]]\n"
     ]
    }
   ],
   "source": [
    "# create a numpy array of ones\n",
    "y = np.ones((3,3))\n",
    "print(y)"
   ]
  },
  {
   "cell_type": "code",
   "execution_count": 13,
   "id": "b507dfab-a7f6-49cc-ae11-638069c0984b",
   "metadata": {},
   "outputs": [
    {
     "name": "stdout",
     "output_type": "stream",
     "text": [
      "[[5 5 5 5 5]\n",
      " [5 5 5 5 5]\n",
      " [5 5 5 5 5]\n",
      " [5 5 5 5 5]]\n"
     ]
    }
   ],
   "source": [
    "# create an array with specific value\n",
    "z = np.full((4,5),5)\n",
    "print(z)"
   ]
  },
  {
   "cell_type": "code",
   "execution_count": 14,
   "id": "f9f7d1d4-0ff5-4d29-954a-7267528e0f2b",
   "metadata": {},
   "outputs": [
    {
     "name": "stdout",
     "output_type": "stream",
     "text": [
      "[[1. 0. 0. 0. 0.]\n",
      " [0. 1. 0. 0. 0.]\n",
      " [0. 0. 1. 0. 0.]\n",
      " [0. 0. 0. 1. 0.]\n",
      " [0. 0. 0. 0. 1.]]\n"
     ]
    }
   ],
   "source": [
    "# create an identity matraix\n",
    "i = np.eye(5)\n",
    "print(i)"
   ]
  },
  {
   "cell_type": "code",
   "execution_count": 18,
   "id": "45157cb6-7cc4-44fc-80f2-cffb39334115",
   "metadata": {},
   "outputs": [
    {
     "name": "stdout",
     "output_type": "stream",
     "text": [
      "[[0.97170113 0.2807248  0.716234   0.50635417]\n",
      " [0.16664626 0.83688917 0.90127418 0.2587691 ]\n",
      " [0.04650061 0.54532629 0.38661091 0.27375806]]\n"
     ]
    }
   ],
   "source": [
    "#create a random array\n",
    "a = np.random.random((3,4))\n",
    "print(a)"
   ]
  },
  {
   "cell_type": "code",
   "execution_count": 21,
   "id": "ce4ab635-b82a-48dd-9d59-30f3ca29ea67",
   "metadata": {},
   "outputs": [
    {
     "name": "stdout",
     "output_type": "stream",
     "text": [
      "[33 90 84 15 92 93 19 45 92 77]\n",
      "[[29 21 27 20]\n",
      " [24 24 23 25]\n",
      " [24 25 21 28]\n",
      " [24 20 23 22]]\n"
     ]
    }
   ],
   "source": [
    "# random integer values \n",
    "\n",
    "c = np.random.randint(10,100,(10))\n",
    "print(c)\n",
    "\n",
    "d = np.random.randint(20,30,(4,4))\n",
    "\n",
    "print(d)"
   ]
  },
  {
   "cell_type": "code",
   "execution_count": 23,
   "id": "4a3979fe-d452-4e5f-9815-421485e06d64",
   "metadata": {},
   "outputs": [
    {
     "name": "stdout",
     "output_type": "stream",
     "text": [
      "[ 1.    3.25  5.5   7.75 10.  ]\n"
     ]
    }
   ],
   "source": [
    "# create array of evenly spaced value\n",
    "\n",
    "e = np.linspace(1,10,5)\n",
    "print(e)"
   ]
  },
  {
   "cell_type": "code",
   "execution_count": 24,
   "id": "9814088a-b284-4136-a0e9-a960b26c536d",
   "metadata": {},
   "outputs": [
    {
     "name": "stdout",
     "output_type": "stream",
     "text": [
      "[10 15 20 25]\n"
     ]
    }
   ],
   "source": [
    "# array of evenly spaced value with step\n",
    "\n",
    "f = np.arange(10,30,5)\n",
    "print(f)"
   ]
  },
  {
   "cell_type": "code",
   "execution_count": 27,
   "id": "e0bbd90f-3aab-4e89-b495-dfbb73edaffa",
   "metadata": {},
   "outputs": [
    {
     "name": "stdout",
     "output_type": "stream",
     "text": [
      "[1 2 3 4 5 6 7]\n",
      "<class 'numpy.ndarray'>\n"
     ]
    }
   ],
   "source": [
    "# convert a list to nparray\n",
    "list = [1,2,3,4,5,6,7]\n",
    "np_array = np.array(list)\n",
    "print(np_array)\n",
    "print(type(np_array))"
   ]
  },
  {
   "cell_type": "markdown",
   "id": "220426b2-51a5-4c6f-82a5-7c054acca91a",
   "metadata": {},
   "source": [
    "## Analyzing np array"
   ]
  },
  {
   "cell_type": "code",
   "execution_count": 28,
   "id": "30efdb22-25f9-4182-bd78-7f377b043198",
   "metadata": {},
   "outputs": [
    {
     "name": "stdout",
     "output_type": "stream",
     "text": [
      "[[22 10 41 23 48]\n",
      " [58 33 43 61 56]\n",
      " [31 83 10 22 80]\n",
      " [29 77 60 52 76]]\n"
     ]
    }
   ],
   "source": [
    "c = np.random.randint(10,90,(4,5))\n",
    "\n",
    "print(c)"
   ]
  },
  {
   "cell_type": "code",
   "execution_count": 29,
   "id": "68d230c8-0a69-42f0-882c-5c8a1be19ec4",
   "metadata": {},
   "outputs": [
    {
     "name": "stdout",
     "output_type": "stream",
     "text": [
      "(4, 5)\n"
     ]
    }
   ],
   "source": [
    "# array dimension\n",
    "print(c.shape)"
   ]
  },
  {
   "cell_type": "code",
   "execution_count": 30,
   "id": "00270ccf-0c4e-495b-ad5d-8ba4be9fd3b5",
   "metadata": {},
   "outputs": [
    {
     "name": "stdout",
     "output_type": "stream",
     "text": [
      "2\n"
     ]
    }
   ],
   "source": [
    "# number of dimension\n",
    "\n",
    "print(c.ndim)"
   ]
  },
  {
   "cell_type": "code",
   "execution_count": 31,
   "id": "d48a4dc5-367d-46c5-be9d-e8a1bf1ce656",
   "metadata": {},
   "outputs": [
    {
     "name": "stdout",
     "output_type": "stream",
     "text": [
      "20\n"
     ]
    }
   ],
   "source": [
    "# total number of element in an array\n",
    "print(c.size)"
   ]
  },
  {
   "cell_type": "code",
   "execution_count": 32,
   "id": "8ebc576d-9034-4ff5-9ead-7fd7c786ba6f",
   "metadata": {},
   "outputs": [
    {
     "name": "stdout",
     "output_type": "stream",
     "text": [
      "int64\n"
     ]
    }
   ],
   "source": [
    "#chicking datatype\n",
    "print(c.dtype)"
   ]
  },
  {
   "cell_type": "markdown",
   "id": "e3e71047-8883-42e3-8a35-136c13927bfb",
   "metadata": {},
   "source": [
    "## Mathematical Operation"
   ]
  },
  {
   "cell_type": "code",
   "execution_count": 33,
   "id": "fa05926e-3bc4-403c-bfa6-e6757f789012",
   "metadata": {},
   "outputs": [
    {
     "name": "stdout",
     "output_type": "stream",
     "text": [
      "[1, 2, 3, 4, 5, 6]\n"
     ]
    }
   ],
   "source": [
    "list  = [1,2,3]\n",
    "list_2 = [4,5,6]\n",
    "print(list + list_2)  #concatinate"
   ]
  },
  {
   "cell_type": "code",
   "execution_count": null,
   "id": "17b0c21a-e975-4715-a5cd-da88bb3d6ee6",
   "metadata": {},
   "outputs": [],
   "source": [
    "a = np.ar"
   ]
  }
 ],
 "metadata": {
  "kernelspec": {
   "display_name": "Python 3 (ipykernel)",
   "language": "python",
   "name": "python3"
  },
  "language_info": {
   "codemirror_mode": {
    "name": "ipython",
    "version": 3
   },
   "file_extension": ".py",
   "mimetype": "text/x-python",
   "name": "python",
   "nbconvert_exporter": "python",
   "pygments_lexer": "ipython3",
   "version": "3.10.12"
  }
 },
 "nbformat": 4,
 "nbformat_minor": 5
}
