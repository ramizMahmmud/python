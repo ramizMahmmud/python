{
 "cells": [
  {
   "cell_type": "code",
   "execution_count": null,
   "id": "6df654c2-07e0-4270-9305-12c057b8f8da",
   "metadata": {},
   "outputs": [],
   "source": [
    "%config IPCompleter.greedy=True"
   ]
  },
  {
   "cell_type": "markdown",
   "id": "aa018e6e-056a-4bfd-b120-6292b352987d",
   "metadata": {},
   "source": [
    "### Create a numpy array of temperatures in Celsius and convert to Fahrenheit"
   ]
  },
  {
   "cell_type": "code",
   "execution_count": 4,
   "id": "93434b3d-348d-4e6a-a641-338d902ed89a",
   "metadata": {},
   "outputs": [
    {
     "name": "stdout",
     "output_type": "stream",
     "text": [
      "[50.  60.8 68.  86. ]\n"
     ]
    }
   ],
   "source": [
    "import numpy as np\n",
    "\n",
    "celsiusValues = np.array([10,16,20,30])\n",
    "fahrenheitValues = (celsiusValues * 9 / 5 +32)\n",
    "print(fahrenheitValues)"
   ]
  },
  {
   "cell_type": "code",
   "execution_count": null,
   "id": "c9dce602-e385-419c-ab1e-0635053794a5",
   "metadata": {},
   "outputs": [],
   "source": []
  }
 ],
 "metadata": {
  "kernelspec": {
   "display_name": "Python 3 (ipykernel)",
   "language": "python",
   "name": "python3"
  },
  "language_info": {
   "codemirror_mode": {
    "name": "ipython",
    "version": 3
   },
   "file_extension": ".py",
   "mimetype": "text/x-python",
   "name": "python",
   "nbconvert_exporter": "python",
   "pygments_lexer": "ipython3",
   "version": "3.10.12"
  }
 },
 "nbformat": 4,
 "nbformat_minor": 5
}
