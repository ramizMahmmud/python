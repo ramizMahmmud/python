{
 "cells": [
  {
   "cell_type": "code",
   "execution_count": null,
   "id": "6df654c2-07e0-4270-9305-12c057b8f8da",
   "metadata": {},
   "outputs": [],
   "source": [
    "%config IPCompleter.greedy=True"
   ]
  },
  {
   "cell_type": "markdown",
   "id": "aa018e6e-056a-4bfd-b120-6292b352987d",
   "metadata": {},
   "source": [
    "### Create a numpy array of temperatures in Celsius and convert to Fahrenheit"
   ]
  },
  {
   "cell_type": "code",
   "execution_count": 4,
   "id": "93434b3d-348d-4e6a-a641-338d902ed89a",
   "metadata": {},
   "outputs": [
    {
     "name": "stdout",
     "output_type": "stream",
     "text": [
      "[50.  60.8 68.  86. ]\n"
     ]
    }
   ],
   "source": [
    "import numpy as np\n",
    "\n",
    "celsiusValues = np.array([10,16,20,30])\n",
    "fahrenheitValues = (celsiusValues * 9 / 5 +32)\n",
    "print(fahrenheitValues)"
   ]
  },
  {
   "cell_type": "markdown",
   "id": "f4c6bd6c-e1ed-4b2a-949a-a6bf000c284e",
   "metadata": {},
   "source": [
    "### Arange function. arange(start, stop, step, data type). stop value excluded"
   ]
  },
  {
   "cell_type": "code",
   "execution_count": 2,
   "id": "fd449e16-5635-424c-9b7d-6972f443459f",
   "metadata": {},
   "outputs": [
    {
     "name": "stdout",
     "output_type": "stream",
     "text": [
      "[1 3 5 7 9]\n"
     ]
    }
   ],
   "source": [
    "import numpy as np\n",
    "a = np.arange(1,10,2)\n",
    "print(a)"
   ]
  },
  {
   "cell_type": "code",
   "execution_count": 4,
   "id": "ce7cb711-3a42-4bc4-80b9-fbd072856c22",
   "metadata": {},
   "outputs": [
    {
     "name": "stdout",
     "output_type": "stream",
     "text": [
      "[ 0.  1.  2.  3.  4.  5.  6.  7.  8.  9. 10.]\n"
     ]
    }
   ],
   "source": [
    "b = np.arange(10.5)\n",
    "print(b)"
   ]
  },
  {
   "cell_type": "code",
   "execution_count": 5,
   "id": "32bf2f34-a817-4658-9bf9-14da439c0440",
   "metadata": {},
   "outputs": [
    {
     "name": "stdout",
     "output_type": "stream",
     "text": [
      "[0 1 2 3 4 5 6 7 8]\n"
     ]
    }
   ],
   "source": [
    "c = np.arange(0.5, 10.5, 1.2, int)\n",
    "print(c)"
   ]
  },
  {
   "cell_type": "markdown",
   "id": "a6db5552-60a8-417e-87b4-2c0950332097",
   "metadata": {},
   "source": [
    "## Linspace\n",
    "### syntax linspace(start, stop, num=50, endpoint=True, retstep=False)"
   ]
  },
  {
   "cell_type": "code",
   "execution_count": 6,
   "id": "25151c7d-e73d-4847-9d9c-589f515915fb",
   "metadata": {},
   "outputs": [
    {
     "name": "stdout",
     "output_type": "stream",
     "text": [
      "Size is:  50\n",
      "[ 1.          1.18367347  1.36734694  1.55102041  1.73469388  1.91836735\n",
      "  2.10204082  2.28571429  2.46938776  2.65306122  2.83673469  3.02040816\n",
      "  3.20408163  3.3877551   3.57142857  3.75510204  3.93877551  4.12244898\n",
      "  4.30612245  4.48979592  4.67346939  4.85714286  5.04081633  5.2244898\n",
      "  5.40816327  5.59183673  5.7755102   5.95918367  6.14285714  6.32653061\n",
      "  6.51020408  6.69387755  6.87755102  7.06122449  7.24489796  7.42857143\n",
      "  7.6122449   7.79591837  7.97959184  8.16326531  8.34693878  8.53061224\n",
      "  8.71428571  8.89795918  9.08163265  9.26530612  9.44897959  9.63265306\n",
      "  9.81632653 10.        ]\n"
     ]
    }
   ],
   "source": [
    "import numpy as np\n",
    "\n",
    "# by default size is 50\n",
    "x = np.linspace(1,10)\n",
    "print(\"Size is: \",x.size)\n",
    "print(x)\n"
   ]
  },
  {
   "cell_type": "code",
   "execution_count": 7,
   "id": "c108f81c-ac15-4c69-9ee0-1c0d8c6f2709",
   "metadata": {},
   "outputs": [
    {
     "name": "stdout",
     "output_type": "stream",
     "text": [
      "Size is:  10\n",
      "[ 1.  2.  3.  4.  5.  6.  7.  8.  9. 10.]\n"
     ]
    }
   ],
   "source": [
    "# creating specific size with linspace\n",
    "x = np.linspace(1,10,10)\n",
    "print(\"Size is: \",x.size)\n",
    "print(x)"
   ]
  },
  {
   "cell_type": "code",
   "execution_count": 10,
   "id": "94a1fe36-57a4-476f-92a1-557bdc090be5",
   "metadata": {},
   "outputs": [
    {
     "name": "stdout",
     "output_type": "stream",
     "text": [
      "Size is:  10\n",
      "[1.  1.9 2.8 3.7 4.6 5.5 6.4 7.3 8.2 9.1]\n"
     ]
    }
   ],
   "source": [
    "# excluding end number\n",
    "x = np.linspace(1,10,10, endpoint = False )\n",
    "print(\"Size is: \",x.size)\n",
    "print(x)"
   ]
  },
  {
   "cell_type": "code",
   "execution_count": 11,
   "id": "a5a46d10-1498-4de7-8a74-a37236163c70",
   "metadata": {},
   "outputs": [
    {
     "name": "stdout",
     "output_type": "stream",
     "text": [
      "Spacing:  1.8\n",
      "[ 1.   2.8  4.6  6.4  8.2 10. ]\n"
     ]
    }
   ],
   "source": [
    "# step size(common differnce)\n",
    "sample, spacing = np.linspace(1,10,6, retstep=True)\n",
    "print('Spacing: ', spacing)\n",
    "print(sample)"
   ]
  },
  {
   "cell_type": "code",
   "execution_count": null,
   "id": "71d41d0e-ebe2-48d1-9ca9-abf1a7795110",
   "metadata": {},
   "outputs": [],
   "source": []
  }
 ],
 "metadata": {
  "kernelspec": {
   "display_name": "Python 3 (ipykernel)",
   "language": "python",
   "name": "python3"
  },
  "language_info": {
   "codemirror_mode": {
    "name": "ipython",
    "version": 3
   },
   "file_extension": ".py",
   "mimetype": "text/x-python",
   "name": "python",
   "nbconvert_exporter": "python",
   "pygments_lexer": "ipython3",
   "version": "3.10.12"
  }
 },
 "nbformat": 4,
 "nbformat_minor": 5
}
