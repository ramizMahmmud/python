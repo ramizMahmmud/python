{
 "cells": [
  {
   "cell_type": "code",
   "execution_count": null,
   "id": "6df654c2-07e0-4270-9305-12c057b8f8da",
   "metadata": {},
   "outputs": [],
   "source": [
    "%config IPCompleter.greedy=True"
   ]
  },
  {
   "cell_type": "markdown",
   "id": "aa018e6e-056a-4bfd-b120-6292b352987d",
   "metadata": {},
   "source": [
    "### Create a numpy array of temperatures in Celsius and convert to Fahrenheit"
   ]
  },
  {
   "cell_type": "code",
   "execution_count": 4,
   "id": "93434b3d-348d-4e6a-a641-338d902ed89a",
   "metadata": {},
   "outputs": [
    {
     "name": "stdout",
     "output_type": "stream",
     "text": [
      "[50.  60.8 68.  86. ]\n"
     ]
    }
   ],
   "source": [
    "import numpy as np\n",
    "\n",
    "celsiusValues = np.array([10,16,20,30])\n",
    "fahrenheitValues = (celsiusValues * 9 / 5 +32)\n",
    "print(fahrenheitValues)"
   ]
  },
  {
   "cell_type": "markdown",
   "id": "f4c6bd6c-e1ed-4b2a-949a-a6bf000c284e",
   "metadata": {},
   "source": [
    "### Arange function. arange(start, stop, step, data type). stop value excluded"
   ]
  },
  {
   "cell_type": "code",
   "execution_count": 2,
   "id": "fd449e16-5635-424c-9b7d-6972f443459f",
   "metadata": {},
   "outputs": [
    {
     "name": "stdout",
     "output_type": "stream",
     "text": [
      "[1 3 5 7 9]\n"
     ]
    }
   ],
   "source": [
    "import numpy as np\n",
    "a = np.arange(1,10,2)\n",
    "print(a)"
   ]
  },
  {
   "cell_type": "code",
   "execution_count": 4,
   "id": "ce7cb711-3a42-4bc4-80b9-fbd072856c22",
   "metadata": {},
   "outputs": [
    {
     "name": "stdout",
     "output_type": "stream",
     "text": [
      "[ 0.  1.  2.  3.  4.  5.  6.  7.  8.  9. 10.]\n"
     ]
    }
   ],
   "source": [
    "b = np.arange(10.5)\n",
    "print(b)"
   ]
  },
  {
   "cell_type": "code",
   "execution_count": 5,
   "id": "32bf2f34-a817-4658-9bf9-14da439c0440",
   "metadata": {},
   "outputs": [
    {
     "name": "stdout",
     "output_type": "stream",
     "text": [
      "[0 1 2 3 4 5 6 7 8]\n"
     ]
    }
   ],
   "source": [
    "c = np.arange(0.5, 10.5, 1.2, int)\n",
    "print(c)"
   ]
  },
  {
   "cell_type": "code",
   "execution_count": null,
   "id": "9460fa3a-a41e-48ae-bdb1-f07a6dfab8a3",
   "metadata": {},
   "outputs": [],
   "source": []
  }
 ],
 "metadata": {
  "kernelspec": {
   "display_name": "Python 3 (ipykernel)",
   "language": "python",
   "name": "python3"
  },
  "language_info": {
   "codemirror_mode": {
    "name": "ipython",
    "version": 3
   },
   "file_extension": ".py",
   "mimetype": "text/x-python",
   "name": "python",
   "nbconvert_exporter": "python",
   "pygments_lexer": "ipython3",
   "version": "3.10.12"
  }
 },
 "nbformat": 4,
 "nbformat_minor": 5
}
